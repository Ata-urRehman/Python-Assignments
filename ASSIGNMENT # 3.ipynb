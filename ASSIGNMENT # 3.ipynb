{
 "cells": [
  {
   "cell_type": "code",
   "execution_count": 46,
   "id": "55b72f42",
   "metadata": {},
   "outputs": [
    {
     "name": "stdout",
     "output_type": "stream",
     "text": [
      "Twinkle, twinkle, little star, \n",
      "\tHow I wonder what you are! \n",
      "\t\t Up above the world so high, \n",
      "\t\t Like a diamond in the sky. \n",
      "Twinkle, twinkle, little star, \n",
      "\tHow I wonder what you are\n"
     ]
    }
   ],
   "source": [
    "#Q-1: Write a Python program to print the following string in a specific format\n",
    "\n",
    "#Ans: use \\n for next line and \\t for tab \n",
    "\n",
    "print (\"Twinkle, twinkle, little star, \\n\\tHow I wonder what you are! \\n\\t\\t Up above the world so high, \\n\\t\\t Like a diamond in the sky. \\nTwinkle, twinkle, little star, \\n\\tHow I wonder what you are\")  \n"
   ]
  },
  {
   "cell_type": "code",
   "execution_count": 47,
   "id": "10071dd4",
   "metadata": {},
   "outputs": [
    {
     "name": "stdout",
     "output_type": "stream",
     "text": [
      "Python version\n",
      "3.8.8 (default, Apr 13 2021, 15:08:03) [MSC v.1916 64 bit (AMD64)]\n",
      "Version info.\n",
      "sys.version_info(major=3, minor=8, micro=8, releaselevel='final', serial=0)\n"
     ]
    }
   ],
   "source": [
    "#Q-2: Write a Python program to get the Python version you are using\n",
    "\n",
    "#Ans: use inport funcation to take information from your computer.\n",
    "\n",
    "import sys\n",
    "print(\"Python version\")\n",
    "print (sys.version)\n",
    "print(\"Version info.\")\n",
    "print (sys.version_info)\n"
   ]
  },
  {
   "cell_type": "code",
   "execution_count": 12,
   "id": "19ae429a",
   "metadata": {},
   "outputs": [
    {
     "name": "stdout",
     "output_type": "stream",
     "text": [
      "Current date and time : \n",
      "2021-10-24 10:41:36\n"
     ]
    }
   ],
   "source": [
    "#Q-3:Write a Python program to display the current date and time.\n",
    "\n",
    "#Ans: use of import and now funcation for current information from computer.\n",
    "\n",
    "import datetime\n",
    "now = datetime.datetime.now()\n",
    "print (\"Current date and time : \")\n",
    "print (now.strftime(\"%Y-%m-%d %H:%M:%S\"))\n"
   ]
  },
  {
   "cell_type": "code",
   "execution_count": 48,
   "id": "eea829e7",
   "metadata": {},
   "outputs": [
    {
     "name": "stdout",
     "output_type": "stream",
     "text": [
      "Input the radius of the circle : 3\n",
      "The area of the circle with radius 3.0 is: 28.274333882308138\n"
     ]
    }
   ],
   "source": [
    "#Q-4: Write a Python program which accepts the radius of a circle from the user and compute the area.\n",
    "\n",
    "#Ans: \n",
    "\n",
    "from math import pi\n",
    "r = float(input (\"Input the radius of the circle : \"))\n",
    "print (\"The area of the circle with radius \" + str(r) + \" is: \" + str(pi * r**2))\n"
   ]
  },
  {
   "cell_type": "code",
   "execution_count": 49,
   "id": "3d16ce0f",
   "metadata": {},
   "outputs": [
    {
     "name": "stdout",
     "output_type": "stream",
     "text": [
      "Enter your First Name : Ata\n",
      "Enter your Last Name : Rehman\n",
      "Hello  Rehman Ata\n"
     ]
    }
   ],
   "source": [
    "#Q-5: Write a Python program which accepts the user's first and last name and print them in reverse order with a space between them.\n",
    "\n",
    "#Ans: use input funcation to take input from user\n",
    "\n",
    "firstname = input(\"Enter your First Name : \")\n",
    "lastname = input(\"Enter your Last Name : \")\n",
    "print (\"Hello  \" + lastname + \" \" + firstname)\n"
   ]
  },
  {
   "cell_type": "code",
   "execution_count": 50,
   "id": "b889ad26",
   "metadata": {},
   "outputs": [
    {
     "name": "stdout",
     "output_type": "stream",
     "text": [
      "enter your first number: 3\n",
      "enter your second number: 3\n",
      "Your sum is: 6\n"
     ]
    }
   ],
   "source": [
    "#Q-6: Write a python program which takes two inputs from user and print them addition\n",
    "\n",
    "#Ans:\n",
    "\n",
    "a = int(input(\"enter your first number: \"))\n",
    "b = int(input(\"enter your second number: \"))\n",
    "sum = a + b\n",
    "print(\"Your sum is:\", sum)\n"
   ]
  },
  {
   "cell_type": "code",
   "execution_count": 60,
   "id": "756a03c2",
   "metadata": {},
   "outputs": [
    {
     "name": "stdout",
     "output_type": "stream",
     "text": [
      "Enter marks of the first subject: 80\n",
      "Enter marks of the second subject: 80\n",
      "Enter marks of the third subject: 90\n",
      "Enter marks of the fourth subject: 75\n",
      "Enter marks of the fifth subject: 70\n",
      "Your average marks is: 80.0\n",
      "Grade: B\n"
     ]
    }
   ],
   "source": [
    "#Q-7: Write a program which takes 5 inputs from user for different subject’s marks, total it and generate mark sheet using grades ?\n",
    "\n",
    "#Ans: Use of elif to give multipal condistions.\n",
    "\n",
    "sub1=int(input(\"Enter marks of the first subject: \"))\n",
    "sub2=int(input(\"Enter marks of the second subject: \"))\n",
    "sub3=int(input(\"Enter marks of the third subject: \"))\n",
    "sub4=int(input(\"Enter marks of the fourth subject: \"))\n",
    "sub5=int(input(\"Enter marks of the fifth subject: \"))\n",
    "\n",
    "avg=(sub1+sub2+sub3+sub4+sub4)/5\n",
    "print (\"Your average marks is:\",avg)\n",
    "if(avg>=90):\n",
    "    print(\"Grade: A\")\n",
    "elif(avg>=80 or avg<90):\n",
    "    print(\"Grade: B\")\n",
    "elif(avg>=70 or avg<80):\n",
    "    print(\"Grade: C\")\n",
    "elif(avg>=60 or avg<70):\n",
    "    print(\"Grade: D\")\n",
    "else:\n",
    "    print(\"Grade: F\")\n"
   ]
  },
  {
   "cell_type": "code",
   "execution_count": 63,
   "id": "c10e853e",
   "metadata": {},
   "outputs": [
    {
     "name": "stdout",
     "output_type": "stream",
     "text": [
      "Enter your number: 2\n",
      "This is an even number.\n"
     ]
    }
   ],
   "source": [
    "#Q-8: Write a program which take input from user and identify that the given number is even or odd?\n",
    "\n",
    "#Ans: \n",
    "\n",
    "number = int(input(\"Enter your number: \"))\n",
    "a = number % 2\n",
    "if a > 0:\n",
    "    print(\"This is an odd number.\")\n",
    "else:\n",
    "    print(\"This is an even number.\")"
   ]
  },
  {
   "cell_type": "code",
   "execution_count": 65,
   "id": "2010a5ab",
   "metadata": {},
   "outputs": [
    {
     "name": "stdout",
     "output_type": "stream",
     "text": [
      "Number of items in the list =  11\n"
     ]
    }
   ],
   "source": [
    "#Q-9: Write a program which print the length of the list?\n",
    "\n",
    "#Ans: Use of len() funcation \n",
    "\n",
    "a = [1, 1, 2, 3, 5, 8, 13, 21, 34, 55, 89]\n",
    "print (\"Number of items in the list = \", len(a))"
   ]
  },
  {
   "cell_type": "code",
   "execution_count": 66,
   "id": "9732f06a",
   "metadata": {},
   "outputs": [
    {
     "ename": "TypeError",
     "evalue": "'int' object is not callable",
     "output_type": "error",
     "traceback": [
      "\u001b[1;31m---------------------------------------------------------------------------\u001b[0m",
      "\u001b[1;31mTypeError\u001b[0m                                 Traceback (most recent call last)",
      "\u001b[1;32m<ipython-input-66-928526bc05cb>\u001b[0m in \u001b[0;36m<module>\u001b[1;34m\u001b[0m\n\u001b[0;32m      5\u001b[0m \u001b[0ma\u001b[0m \u001b[1;33m=\u001b[0m \u001b[1;33m[\u001b[0m\u001b[1;36m1\u001b[0m\u001b[1;33m,\u001b[0m \u001b[1;36m1\u001b[0m\u001b[1;33m,\u001b[0m \u001b[1;36m2\u001b[0m\u001b[1;33m,\u001b[0m \u001b[1;36m3\u001b[0m\u001b[1;33m,\u001b[0m \u001b[1;36m5\u001b[0m\u001b[1;33m,\u001b[0m \u001b[1;36m8\u001b[0m\u001b[1;33m,\u001b[0m \u001b[1;36m13\u001b[0m\u001b[1;33m,\u001b[0m \u001b[1;36m21\u001b[0m\u001b[1;33m,\u001b[0m \u001b[1;36m34\u001b[0m\u001b[1;33m,\u001b[0m \u001b[1;36m55\u001b[0m\u001b[1;33m,\u001b[0m \u001b[1;36m89\u001b[0m\u001b[1;33m]\u001b[0m\u001b[1;33m\u001b[0m\u001b[1;33m\u001b[0m\u001b[0m\n\u001b[0;32m      6\u001b[0m \u001b[1;33m\u001b[0m\u001b[0m\n\u001b[1;32m----> 7\u001b[1;33m \u001b[0mTotal\u001b[0m \u001b[1;33m=\u001b[0m \u001b[0msum\u001b[0m\u001b[1;33m(\u001b[0m\u001b[0ma\u001b[0m\u001b[1;33m)\u001b[0m\u001b[1;33m\u001b[0m\u001b[1;33m\u001b[0m\u001b[0m\n\u001b[0m\u001b[0;32m      8\u001b[0m \u001b[0mprint\u001b[0m\u001b[1;33m(\u001b[0m\u001b[1;34m\"Sum is:\"\u001b[0m\u001b[1;33m,\u001b[0m \u001b[0mTotal\u001b[0m\u001b[1;33m)\u001b[0m\u001b[1;33m\u001b[0m\u001b[1;33m\u001b[0m\u001b[0m\n",
      "\u001b[1;31mTypeError\u001b[0m: 'int' object is not callable"
     ]
    }
   ],
   "source": [
    "#Q-10: Write a Python program to sum all the numeric items in a list?\n",
    "\n",
    "#Ans: \n",
    "\n",
    "a = [1, 1, 2, 3, 5, 8, 13, 21, 34, 55, 89]\n",
    "\n",
    "Total = sum(a)\n",
    "print(\"Sum is:\", Total) \n"
   ]
  },
  {
   "cell_type": "code",
   "execution_count": 68,
   "id": "3d856c32",
   "metadata": {},
   "outputs": [
    {
     "name": "stdout",
     "output_type": "stream",
     "text": [
      "Largest Number is: 89\n"
     ]
    }
   ],
   "source": [
    "#Q-11: Write a Python program to get the largest number from a numeric list.\n",
    "\n",
    "#Ans: Use of max funcation\n",
    "\n",
    "a = [1, 1, 2, 3, 5, 8, 13, 21, 34, 55, 89]\n",
    "\n",
    "print(\"Largest Number is:\", max(a))"
   ]
  },
  {
   "cell_type": "code",
   "execution_count": 67,
   "id": "e3ff5b42",
   "metadata": {},
   "outputs": [
    {
     "name": "stdout",
     "output_type": "stream",
     "text": [
      "1\n",
      "1\n",
      "2\n",
      "3\n"
     ]
    }
   ],
   "source": [
    "#Q-12: Write a program that prints out all the elements of the list that are less than 5.\n",
    "\n",
    "#Ans: \n",
    "\n",
    "a = [1, 1, 2, 3, 5, 8, 13, 21, 34, 55, 89]\n",
    "\n",
    "for i in a:\n",
    "    if i < 5:\n",
    "        print(i)\n"
   ]
  }
 ],
 "metadata": {
  "kernelspec": {
   "display_name": "Python 3",
   "language": "python",
   "name": "python3"
  },
  "language_info": {
   "codemirror_mode": {
    "name": "ipython",
    "version": 3
   },
   "file_extension": ".py",
   "mimetype": "text/x-python",
   "name": "python",
   "nbconvert_exporter": "python",
   "pygments_lexer": "ipython3",
   "version": "3.8.8"
  }
 },
 "nbformat": 4,
 "nbformat_minor": 5
}
