{
 "cells": [
  {
   "cell_type": "code",
   "execution_count": 9,
   "id": "071bec5e",
   "metadata": {},
   "outputs": [
    {
     "name": "stdout",
     "output_type": "stream",
     "text": [
      "\n",
      "Please type in the math operation you would like to complete:\n",
      "+ for addition\n",
      "- for subtraction\n",
      "* for multiplication\n",
      "/ for division\n",
      "** for power\n",
      "*\n",
      "Enter your first number: 8\n",
      "Enter your second number: 6\n",
      "8 * 6 = \n",
      "48\n"
     ]
    }
   ],
   "source": [
    "#. Make a calculator using Python with addition , subtraction , multiplication ,division and power.\n",
    "\n",
    "operation = input('''\n",
    "Please type in the math operation you would like to complete:\n",
    "+ for addition\n",
    "- for subtraction\n",
    "* for multiplication\n",
    "/ for division\n",
    "** for power\n",
    "''')\n",
    "\n",
    "number_1 = int(input('Enter your first number: '))\n",
    "number_2 = int(input('Enter your second number: '))\n",
    "\n",
    "if operation == '+':\n",
    "    print('{} + {} = '.format(number_1, number_2))\n",
    "    print(number_1 + number_2)\n",
    "\n",
    "elif operation == '-':\n",
    "    print('{} - {} = '.format(number_1, number_2))\n",
    "    print(number_1 - number_2)\n",
    "\n",
    "elif operation == '*':\n",
    "    print('{} * {} = '.format(number_1, number_2))\n",
    "    print(number_1 * number_2)\n",
    "\n",
    "elif operation == '/':\n",
    "    print('{} / {} = '.format(number_1, number_2))\n",
    "    print(number_1 / number_2)\n",
    "\n",
    "else:\n",
    "    print('You have not typed a valid operator, please run the program again.')"
   ]
  },
  {
   "cell_type": "code",
   "execution_count": 21,
   "id": "40aa9911",
   "metadata": {},
   "outputs": [
    {
     "name": "stdout",
     "output_type": "stream",
     "text": [
      "The given dictionary :  {'Mon': 3, 'Tue': 5, 'Wed': 6, 'Thu': 9}\n",
      "Fri  is not Present.\n"
     ]
    }
   ],
   "source": [
    "#. Write a Python script to check if a given key already exists in a dictionary\n",
    "\n",
    "Dictionary = {'Mon':3,'Tue':5,'Wed':6,'Thu':9}\n",
    "print(\"The given dictionary : \",Dictionary)\n",
    "check_key = \"Fri\"\n",
    "if check_key in Dictionary:\n",
    "   print(check_key,\"is Present.\")\n",
    "else:\n",
    "   print(check_key, \" is not Present.\")"
   ]
  },
  {
   "cell_type": "code",
   "execution_count": 20,
   "id": "e5cf4876",
   "metadata": {},
   "outputs": [
    {
     "name": "stdout",
     "output_type": "stream",
     "text": [
      "2 3 4 5 "
     ]
    }
   ],
   "source": [
    "#. Write a program to identify duplicate values from list.\n",
    "\n",
    "list = [1,2,3,4,5,2,3,4,7,9,5]\n",
    "list1=[]\n",
    "for i in list:\n",
    "    if i not in list1:\n",
    "        list1.append(i)\n",
    "    else:\n",
    "        print(i,end=' ')"
   ]
  },
  {
   "cell_type": "code",
   "execution_count": 19,
   "id": "a3b47422",
   "metadata": {},
   "outputs": [
    {
     "name": "stdout",
     "output_type": "stream",
     "text": [
      "Total sum of values in the dictionary:\n",
      "879\n"
     ]
    }
   ],
   "source": [
    "#. Write a Python program to sum all the numeric items in a dictionary.\n",
    "\n",
    "Dictionary = {'A':100,'B':540,'C':239}\n",
    "\n",
    "print(\"Total sum of values in the dictionary:\")\n",
    "\n",
    "print(sum(Dictionary.values()))"
   ]
  },
  {
   "cell_type": "code",
   "execution_count": 22,
   "id": "f4391582",
   "metadata": {},
   "outputs": [
    {
     "name": "stdout",
     "output_type": "stream",
     "text": [
      "{1: 1, 2: 4, 3: 9, 'x': None}\n"
     ]
    }
   ],
   "source": [
    "#. Write a Python script to add a key to a dictionary.\n",
    "\n",
    "Dictionary = {1: 1, 2: 4, 3: 9}\n",
    "\n",
    "Dictionary['x'] = None \n",
    "\n",
    "print(Dictionary)"
   ]
  },
  {
   "cell_type": "code",
   "execution_count": 15,
   "id": "d739771d",
   "metadata": {},
   "outputs": [
    {
     "name": "stdout",
     "output_type": "stream",
     "text": [
      "apple\n",
      "banana\n",
      "cherry\n"
     ]
    }
   ],
   "source": [
    "#. Write a program to check if there is any numeric value in list using for loop.\n",
    "\n",
    "thislist = [\"apple\", \"banana\", \"cherry\"]\n",
    "\n",
    "for x in thislist:\n",
    "    \n",
    "  print(x)"
   ]
  },
  {
   "cell_type": "code",
   "execution_count": null,
   "id": "1f7e5745",
   "metadata": {},
   "outputs": [],
   "source": []
  }
 ],
 "metadata": {
  "kernelspec": {
   "display_name": "Python 3",
   "language": "python",
   "name": "python3"
  },
  "language_info": {
   "codemirror_mode": {
    "name": "ipython",
    "version": 3
   },
   "file_extension": ".py",
   "mimetype": "text/x-python",
   "name": "python",
   "nbconvert_exporter": "python",
   "pygments_lexer": "ipython3",
   "version": "3.8.8"
  }
 },
 "nbformat": 4,
 "nbformat_minor": 5
}
